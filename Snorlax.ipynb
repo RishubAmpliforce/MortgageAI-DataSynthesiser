{
 "cells": [
  {
   "cell_type": "markdown",
   "metadata": {},
   "source": [
    "# Snorlax\n",
    "\n",
    "### What is Snorlax?\n",
    "\n",
    "Snorlax is an API integration system that allows admin priviledged users to add custom API integrations into the platform by submitting **documentation** or **OpenAPI JSON**\n",
    "\n",
    "### How do we implement Snorlax?\n",
    "\n"
   ]
  },
  {
   "cell_type": "code",
   "execution_count": null,
   "metadata": {},
   "outputs": [],
   "source": []
  }
 ],
 "metadata": {
  "kernelspec": {
   "display_name": "base",
   "language": "python",
   "name": "python3"
  },
  "language_info": {
   "codemirror_mode": {
    "name": "ipython",
    "version": 3
   },
   "file_extension": ".py",
   "mimetype": "text/x-python",
   "name": "python",
   "nbconvert_exporter": "python",
   "pygments_lexer": "ipython3",
   "version": "3.9.12"
  },
  "orig_nbformat": 4
 },
 "nbformat": 4,
 "nbformat_minor": 2
}
