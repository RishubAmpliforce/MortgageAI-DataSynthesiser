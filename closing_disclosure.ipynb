{
 "cells": [
  {
   "cell_type": "code",
   "execution_count": 1,
   "metadata": {},
   "outputs": [],
   "source": [
    "from pypdf import PdfReader"
   ]
  },
  {
   "cell_type": "code",
   "execution_count": 3,
   "metadata": {},
   "outputs": [],
   "source": [
    "pdf_path = '../blank closing disclosure.pdf'\n",
    "\n",
    "pdf_reader = PdfReader(pdf_path)"
   ]
  },
  {
   "cell_type": "code",
   "execution_count": 21,
   "metadata": {},
   "outputs": [
    {
     "ename": "AttributeError",
     "evalue": "'PdfWriter' object has no attribute 'insertText'",
     "output_type": "error",
     "traceback": [
      "\u001b[1;31m---------------------------------------------------------------------------\u001b[0m",
      "\u001b[1;31mAttributeError\u001b[0m                            Traceback (most recent call last)",
      "\u001b[1;32md:\\Ampliforce\\Mortgage-AI\\MortgageAI-DataSynthesiser\\closing_disclosure.ipynb Cell 3\u001b[0m in \u001b[0;36m<cell line: 32>\u001b[1;34m()\u001b[0m\n\u001b[0;32m     <a href='vscode-notebook-cell:/d%3A/Ampliforce/Mortgage-AI/MortgageAI-DataSynthesiser/closing_disclosure.ipynb#W2sZmlsZQ%3D%3D?line=32'>33</a>\u001b[0m pdf_file_path \u001b[39m=\u001b[39m pdf_path\n\u001b[0;32m     <a href='vscode-notebook-cell:/d%3A/Ampliforce/Mortgage-AI/MortgageAI-DataSynthesiser/closing_disclosure.ipynb#W2sZmlsZQ%3D%3D?line=33'>34</a>\u001b[0m value \u001b[39m=\u001b[39m \u001b[39m\"\u001b[39m\u001b[39mmmmmmmamasdmasdmasdmasdmasdmasd\u001b[39m\u001b[39m\"\u001b[39m\n\u001b[1;32m---> <a href='vscode-notebook-cell:/d%3A/Ampliforce/Mortgage-AI/MortgageAI-DataSynthesiser/closing_disclosure.ipynb#W2sZmlsZQ%3D%3D?line=34'>35</a>\u001b[0m write_value_after_first_name(pdf_file_path, value)\n",
      "\u001b[1;32md:\\Ampliforce\\Mortgage-AI\\MortgageAI-DataSynthesiser\\closing_disclosure.ipynb Cell 3\u001b[0m in \u001b[0;36mwrite_value_after_first_name\u001b[1;34m(pdf_file_path, value)\u001b[0m\n\u001b[0;32m     <a href='vscode-notebook-cell:/d%3A/Ampliforce/Mortgage-AI/MortgageAI-DataSynthesiser/closing_disclosure.ipynb#W2sZmlsZQ%3D%3D?line=22'>23</a>\u001b[0m pdf_writer\u001b[39m.\u001b[39madd_page(first_page)\n\u001b[0;32m     <a href='vscode-notebook-cell:/d%3A/Ampliforce/Mortgage-AI/MortgageAI-DataSynthesiser/closing_disclosure.ipynb#W2sZmlsZQ%3D%3D?line=24'>25</a>\u001b[0m \u001b[39m# Insert the value after the first name.\u001b[39;00m\n\u001b[1;32m---> <a href='vscode-notebook-cell:/d%3A/Ampliforce/Mortgage-AI/MortgageAI-DataSynthesiser/closing_disclosure.ipynb#W2sZmlsZQ%3D%3D?line=25'>26</a>\u001b[0m pdf_writer\u001b[39m.\u001b[39;49minsertText(first_name_text \u001b[39m+\u001b[39m \u001b[39m\"\u001b[39m\u001b[39m: \u001b[39m\u001b[39m\"\u001b[39m \u001b[39m+\u001b[39m value, \u001b[39m0\u001b[39m, \u001b[39m0\u001b[39m)\n\u001b[0;32m     <a href='vscode-notebook-cell:/d%3A/Ampliforce/Mortgage-AI/MortgageAI-DataSynthesiser/closing_disclosure.ipynb#W2sZmlsZQ%3D%3D?line=27'>28</a>\u001b[0m \u001b[39m# Write the PDF file.\u001b[39;00m\n\u001b[0;32m     <a href='vscode-notebook-cell:/d%3A/Ampliforce/Mortgage-AI/MortgageAI-DataSynthesiser/closing_disclosure.ipynb#W2sZmlsZQ%3D%3D?line=28'>29</a>\u001b[0m \u001b[39mwith\u001b[39;00m \u001b[39mopen\u001b[39m(pdf_file_path, \u001b[39m\"\u001b[39m\u001b[39mwb\u001b[39m\u001b[39m\"\u001b[39m) \u001b[39mas\u001b[39;00m f:\n",
      "\u001b[1;31mAttributeError\u001b[0m: 'PdfWriter' object has no attribute 'insertText'"
     ]
    }
   ],
   "source": [
    "import PyPDF2\n",
    "\n",
    "def write_value_after_first_name(pdf_file_path, value):\n",
    "  \"\"\"Writes the given value after the first name in the first page of the given PDF file.\n",
    "\n",
    "  Args:\n",
    "    pdf_file_path: The path to the PDF file to modify.\n",
    "    value: The value to write.\n",
    "  \"\"\"\n",
    "\n",
    "  pdf_reader = PyPDF2.PdfReader(pdf_file_path)\n",
    "  first_page = pdf_reader.pages[0]\n",
    "\n",
    "  # Find the first name in the page.\n",
    "  first_name_text = \"\"\n",
    "  for line in first_page.extract_text().splitlines():\n",
    "    if line.startswith(\"Date Issued\"):\n",
    "      first_name_text = line.split(\" \")[2]\n",
    "      break\n",
    "\n",
    "  # Write the value after the first name.\n",
    "  pdf_writer = PyPDF2.PdfWriter()\n",
    "  pdf_writer.add_page(first_page)\n",
    "\n",
    "  # Insert the value after the first name.\n",
    "  pdf_writer.insertText(first_name_text + \": \" + value, 0, 0)\n",
    "\n",
    "  # Write the PDF file.\n",
    "  with open(pdf_file_path, \"wb\") as f:\n",
    "    pdf_writer.write(f)\n",
    "\n",
    "if __name__ == \"__main__\":\n",
    "  pdf_file_path = pdf_path\n",
    "  value = \"mmmmmmamasdmasdmasdmasdmasdmasd\"\n",
    "  write_value_after_first_name(pdf_file_path, value)\n"
   ]
  },
  {
   "cell_type": "code",
   "execution_count": 29,
   "metadata": {},
   "outputs": [
    {
     "ename": "AttributeError",
     "evalue": "'TextStringObject' object has no attribute 'set_text'",
     "output_type": "error",
     "traceback": [
      "\u001b[1;31m---------------------------------------------------------------------------\u001b[0m",
      "\u001b[1;31mAttributeError\u001b[0m                            Traceback (most recent call last)",
      "\u001b[1;32md:\\Ampliforce\\Mortgage-AI\\MortgageAI-DataSynthesiser\\closing_disclosure.ipynb Cell 4\u001b[0m in \u001b[0;36m<cell line: 45>\u001b[1;34m()\u001b[0m\n\u001b[0;32m     <a href='vscode-notebook-cell:/d%3A/Ampliforce/Mortgage-AI/MortgageAI-DataSynthesiser/closing_disclosure.ipynb#W3sZmlsZQ%3D%3D?line=49'>50</a>\u001b[0m width \u001b[39m=\u001b[39m \u001b[39m200\u001b[39m\n\u001b[0;32m     <a href='vscode-notebook-cell:/d%3A/Ampliforce/Mortgage-AI/MortgageAI-DataSynthesiser/closing_disclosure.ipynb#W3sZmlsZQ%3D%3D?line=50'>51</a>\u001b[0m height \u001b[39m=\u001b[39m \u001b[39m50\u001b[39m\n\u001b[1;32m---> <a href='vscode-notebook-cell:/d%3A/Ampliforce/Mortgage-AI/MortgageAI-DataSynthesiser/closing_disclosure.ipynb#W3sZmlsZQ%3D%3D?line=51'>52</a>\u001b[0m add_text_annotation(pdf_file_path, value, x, y, width, height)\n",
      "\u001b[1;32md:\\Ampliforce\\Mortgage-AI\\MortgageAI-DataSynthesiser\\closing_disclosure.ipynb Cell 4\u001b[0m in \u001b[0;36madd_text_annotation\u001b[1;34m(pdf_file_path, value, x, y, width, height)\u001b[0m\n\u001b[0;32m     <a href='vscode-notebook-cell:/d%3A/Ampliforce/Mortgage-AI/MortgageAI-DataSynthesiser/closing_disclosure.ipynb#W3sZmlsZQ%3D%3D?line=16'>17</a>\u001b[0m \u001b[39m# Create a new text object.\u001b[39;00m\n\u001b[0;32m     <a href='vscode-notebook-cell:/d%3A/Ampliforce/Mortgage-AI/MortgageAI-DataSynthesiser/closing_disclosure.ipynb#W3sZmlsZQ%3D%3D?line=17'>18</a>\u001b[0m text \u001b[39m=\u001b[39m PyPDF2\u001b[39m.\u001b[39mgeneric\u001b[39m.\u001b[39mTextStringObject()\n\u001b[1;32m---> <a href='vscode-notebook-cell:/d%3A/Ampliforce/Mortgage-AI/MortgageAI-DataSynthesiser/closing_disclosure.ipynb#W3sZmlsZQ%3D%3D?line=18'>19</a>\u001b[0m text\u001b[39m.\u001b[39;49mset_text(value)\n\u001b[0;32m     <a href='vscode-notebook-cell:/d%3A/Ampliforce/Mortgage-AI/MortgageAI-DataSynthesiser/closing_disclosure.ipynb#W3sZmlsZQ%3D%3D?line=20'>21</a>\u001b[0m \u001b[39m# Create a new text annotation and add it to the page.\u001b[39;00m\n\u001b[0;32m     <a href='vscode-notebook-cell:/d%3A/Ampliforce/Mortgage-AI/MortgageAI-DataSynthesiser/closing_disclosure.ipynb#W3sZmlsZQ%3D%3D?line=21'>22</a>\u001b[0m text_annotation \u001b[39m=\u001b[39m PyPDF2\u001b[39m.\u001b[39mgeneric\u001b[39m.\u001b[39mAnnotation(\n\u001b[0;32m     <a href='vscode-notebook-cell:/d%3A/Ampliforce/Mortgage-AI/MortgageAI-DataSynthesiser/closing_disclosure.ipynb#W3sZmlsZQ%3D%3D?line=22'>23</a>\u001b[0m     name\u001b[39m=\u001b[39m\u001b[39m'\u001b[39m\u001b[39m/Text\u001b[39m\u001b[39m'\u001b[39m,\n\u001b[0;32m     <a href='vscode-notebook-cell:/d%3A/Ampliforce/Mortgage-AI/MortgageAI-DataSynthesiser/closing_disclosure.ipynb#W3sZmlsZQ%3D%3D?line=23'>24</a>\u001b[0m     title\u001b[39m=\u001b[39m\u001b[39m'\u001b[39m\u001b[39mTitle\u001b[39m\u001b[39m'\u001b[39m,\n\u001b[1;32m   (...)\u001b[0m\n\u001b[0;32m     <a href='vscode-notebook-cell:/d%3A/Ampliforce/Mortgage-AI/MortgageAI-DataSynthesiser/closing_disclosure.ipynb#W3sZmlsZQ%3D%3D?line=31'>32</a>\u001b[0m     text\u001b[39m=\u001b[39mtext\n\u001b[0;32m     <a href='vscode-notebook-cell:/d%3A/Ampliforce/Mortgage-AI/MortgageAI-DataSynthesiser/closing_disclosure.ipynb#W3sZmlsZQ%3D%3D?line=32'>33</a>\u001b[0m )\n",
      "\u001b[1;31mAttributeError\u001b[0m: 'TextStringObject' object has no attribute 'set_text'"
     ]
    }
   ],
   "source": [
    "import PyPDF2\n",
    "\n",
    "def add_text_annotation(pdf_file_path, value, x, y, width, height):\n",
    "  # Open the PDF file.\n",
    "  pdf_file = open(pdf_file_path, 'rb')\n",
    "  pdf_reader = PyPDF2.PdfReader(pdf_file)\n",
    "\n",
    "  # Get the first page of the PDF.\n",
    "  page = pdf_reader.pages[0]\n",
    "\n",
    "  # Create a PDF writer object.\n",
    "  pdf_writer = PyPDF2.PdfWriter()\n",
    "\n",
    "  # Add the original page to the writer object.\n",
    "  pdf_writer.add_page(page)\n",
    "\n",
    "  # Create a new text object.\n",
    "  text = PyPDF2.generic.TextStringObject()\n",
    "  text.set_text(value)\n",
    "\n",
    "  # Create a new text annotation and add it to the page.\n",
    "  text_annotation = PyPDF2.generic.Annotation(\n",
    "      name='/Text',\n",
    "      title='Title',\n",
    "      contents='Contents',\n",
    "      subtype='Text',\n",
    "      x=x,\n",
    "      y=y,\n",
    "      width=width,\n",
    "      height=height,\n",
    "      color=PyPDF2.pdf.Color(1, 1, 1),\n",
    "      text=text\n",
    "  )\n",
    "\n",
    "  page.addAnnotation(text_annotation)\n",
    "\n",
    "  # Save the new PDF file.\n",
    "  pdf_output_file = open('output.pdf', 'wb')\n",
    "  pdf_writer.write(pdf_output_file)\n",
    "\n",
    "  # Close the files.\n",
    "  pdf_file.close()\n",
    "  pdf_output_file.close()\n",
    "\n",
    "if __name__ == \"__main__\":\n",
    "  pdf_file_path = pdf_path\n",
    "  value = \"Hello, World!\"\n",
    "  x = 100\n",
    "  y = 100\n",
    "  width = 200\n",
    "  height = 50\n",
    "  add_text_annotation(pdf_file_path, value, x, y, width, height)\n"
   ]
  },
  {
   "cell_type": "code",
   "execution_count": null,
   "metadata": {},
   "outputs": [],
   "source": []
  }
 ],
 "metadata": {
  "kernelspec": {
   "display_name": "base",
   "language": "python",
   "name": "python3"
  },
  "language_info": {
   "codemirror_mode": {
    "name": "ipython",
    "version": 3
   },
   "file_extension": ".py",
   "mimetype": "text/x-python",
   "name": "python",
   "nbconvert_exporter": "python",
   "pygments_lexer": "ipython3",
   "version": "3.9.12"
  },
  "orig_nbformat": 4
 },
 "nbformat": 4,
 "nbformat_minor": 2
}
